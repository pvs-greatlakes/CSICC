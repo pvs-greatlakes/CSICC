{
 "cells": [
  {
   "cell_type": "code",
   "execution_count": 1,
   "id": "8d3bef8c",
   "metadata": {},
   "outputs": [],
   "source": [
    "# ! pip install imapclient\n",
    "import    imapclient, imaplib\n",
    "import    pandas    as   pd\n",
    "from      datetime  import datetime\n",
    "import    getpass\n",
    "import    re\n",
    "import    email\n",
    "from      pprint     import pprint as pp"
   ]
  },
  {
   "cell_type": "code",
   "execution_count": 2,
   "id": "92822a30",
   "metadata": {},
   "outputs": [],
   "source": [
    "my_email       =   \"info@csichennai.org\"\n",
    "my_password    =   \"pcubkvgqdskfxclo\""
   ]
  },
  {
   "cell_type": "code",
   "execution_count": 3,
   "id": "d66f5b50",
   "metadata": {},
   "outputs": [],
   "source": [
    "from           imap_tools  import MailBox, AND\n",
    "import         datetime    as dt\n",
    "\n",
    "mailbox        =     MailBox('imap.gmail.com').login(my_email, my_password)\n",
    "email_df       =     pd.DataFrame()"
   ]
  },
  {
   "cell_type": "code",
   "execution_count": 4,
   "id": "62ab5615",
   "metadata": {},
   "outputs": [],
   "source": [
    "date_str       =    '24-05-2022'\n",
    "date_p         =    datetime.strptime(date_str, '%d-%m-%Y').date()"
   ]
  },
  {
   "cell_type": "code",
   "execution_count": 5,
   "id": "200781cb",
   "metadata": {},
   "outputs": [],
   "source": [
    "date_str_list       =    ['24-05-2022', '25-05-2022', '26-05-2022', '27-05-2022','28-05-2022', '29-05-2022',\\\n",
    "                         '30-05-2022', '31-05-2022','01-06-2022', '01-06-2022','02-06-2022','03-06-2022',\\\n",
    "                         '04-06-2022', '05-06-2022','06-06-2022','07-06-2022','08-06-2022', '09-06-2022','10-06-2022']\n",
    "\n",
    "for date_str in date_str_list:\n",
    "\n",
    "    date_p         =    datetime.strptime(date_str, '%d-%m-%Y').date()\n",
    "\n",
    "    with MailBox('imap.gmail.com').login(my_email, my_password) as mailbox:\n",
    "        for message in mailbox.fetch(criteria= AND(date = date_p, seen = True, from_= \"Mail Delivery Subsystem\")):\n",
    "            email_date       =    message.date_str         # str or None: '123'\n",
    "            email_cc         =    message.cc               # tuple: ('cc@mail.ru', )\n",
    "            email_bcc        =    message.bcc              # tuple: ('bcc@mail.ru', )\n",
    "            email_body       =    message.text\n",
    "            email_to_list    =     re.findall('[a-zA-Z0-9]\\S*@\\S*[a-zA-Z]', str(email_body))\n",
    "            email_to         =     ' '.join([str(x) for x in email_to_list]) \n",
    "            email_df1        =    pd.DataFrame({'Date' : email_date, 'To' : email_to}, index = [0])\n",
    "            email_df         =    email_df.append(email_df1)"
   ]
  },
  {
   "cell_type": "code",
   "execution_count": 6,
   "id": "97ac58a6",
   "metadata": {},
   "outputs": [
    {
     "data": {
      "text/html": [
       "<div>\n",
       "<style scoped>\n",
       "    .dataframe tbody tr th:only-of-type {\n",
       "        vertical-align: middle;\n",
       "    }\n",
       "\n",
       "    .dataframe tbody tr th {\n",
       "        vertical-align: top;\n",
       "    }\n",
       "\n",
       "    .dataframe thead th {\n",
       "        text-align: right;\n",
       "    }\n",
       "</style>\n",
       "<table border=\"1\" class=\"dataframe\">\n",
       "  <thead>\n",
       "    <tr style=\"text-align: right;\">\n",
       "      <th></th>\n",
       "      <th>0</th>\n",
       "      <th>0</th>\n",
       "      <th>0</th>\n",
       "      <th>0</th>\n",
       "      <th>0</th>\n",
       "      <th>0</th>\n",
       "      <th>0</th>\n",
       "      <th>0</th>\n",
       "      <th>0</th>\n",
       "      <th>0</th>\n",
       "    </tr>\n",
       "  </thead>\n",
       "  <tbody>\n",
       "    <tr>\n",
       "      <th>Date</th>\n",
       "      <td>Sat, 04 Jun 2022 00:00:44 -0700 (PDT)</td>\n",
       "      <td>Sat, 04 Jun 2022 01:29:13 -0700 (PDT)</td>\n",
       "      <td>Sat, 04 Jun 2022 23:06:17 -0700 (PDT)</td>\n",
       "      <td>Sat, 04 Jun 2022 23:42:36 -0700 (PDT)</td>\n",
       "      <td>Sun, 05 Jun 2022 00:53:33 -0700 (PDT)</td>\n",
       "      <td>Sun, 05 Jun 2022 01:26:08 -0700 (PDT)</td>\n",
       "      <td>Sun, 05 Jun 2022 02:58:56 -0700 (PDT)</td>\n",
       "      <td>Mon, 06 Jun 2022 01:01:05 -0700 (PDT)</td>\n",
       "      <td>Mon, 06 Jun 2022 01:57:18 -0700 (PDT)</td>\n",
       "      <td>Tue, 07 Jun 2022 00:47:27 -0700 (PDT)</td>\n",
       "    </tr>\n",
       "    <tr>\n",
       "      <th>To</th>\n",
       "      <td>sakthi.gri@gmail.com</td>\n",
       "      <td>info@indousabiz.com</td>\n",
       "      <td>thiru@fbtech.in</td>\n",
       "      <td>rital@vsnl.com</td>\n",
       "      <td>rc.karnick@sailrsp.co.in</td>\n",
       "      <td>info@indousabiz.com</td>\n",
       "      <td>nagappan@vsn.com</td>\n",
       "      <td>thiru@fbtech.in</td>\n",
       "      <td>nagappan@vsn.com</td>\n",
       "      <td>nagappan@vsn.com</td>\n",
       "    </tr>\n",
       "  </tbody>\n",
       "</table>\n",
       "</div>"
      ],
      "text/plain": [
       "                                          0  \\\n",
       "Date  Sat, 04 Jun 2022 00:00:44 -0700 (PDT)   \n",
       "To                     sakthi.gri@gmail.com   \n",
       "\n",
       "                                          0  \\\n",
       "Date  Sat, 04 Jun 2022 01:29:13 -0700 (PDT)   \n",
       "To                      info@indousabiz.com   \n",
       "\n",
       "                                          0  \\\n",
       "Date  Sat, 04 Jun 2022 23:06:17 -0700 (PDT)   \n",
       "To                          thiru@fbtech.in   \n",
       "\n",
       "                                          0  \\\n",
       "Date  Sat, 04 Jun 2022 23:42:36 -0700 (PDT)   \n",
       "To                           rital@vsnl.com   \n",
       "\n",
       "                                          0  \\\n",
       "Date  Sun, 05 Jun 2022 00:53:33 -0700 (PDT)   \n",
       "To                 rc.karnick@sailrsp.co.in   \n",
       "\n",
       "                                          0  \\\n",
       "Date  Sun, 05 Jun 2022 01:26:08 -0700 (PDT)   \n",
       "To                      info@indousabiz.com   \n",
       "\n",
       "                                          0  \\\n",
       "Date  Sun, 05 Jun 2022 02:58:56 -0700 (PDT)   \n",
       "To                         nagappan@vsn.com   \n",
       "\n",
       "                                          0  \\\n",
       "Date  Mon, 06 Jun 2022 01:01:05 -0700 (PDT)   \n",
       "To                          thiru@fbtech.in   \n",
       "\n",
       "                                          0  \\\n",
       "Date  Mon, 06 Jun 2022 01:57:18 -0700 (PDT)   \n",
       "To                         nagappan@vsn.com   \n",
       "\n",
       "                                          0  \n",
       "Date  Tue, 07 Jun 2022 00:47:27 -0700 (PDT)  \n",
       "To                         nagappan@vsn.com  "
      ]
     },
     "execution_count": 6,
     "metadata": {},
     "output_type": "execute_result"
    }
   ],
   "source": [
    "email_df.tail(10).T"
   ]
  },
  {
   "cell_type": "code",
   "execution_count": 7,
   "id": "b2c43979",
   "metadata": {},
   "outputs": [
    {
     "name": "stdout",
     "output_type": "stream",
     "text": [
      "Rows 279 Columns 2\n"
     ]
    }
   ],
   "source": [
    "print('Rows %d Columns %d' % (email_df.shape[0], email_df.shape[1]))"
   ]
  },
  {
   "cell_type": "code",
   "execution_count": 8,
   "id": "551e44a5",
   "metadata": {},
   "outputs": [],
   "source": [
    "output_file_name =  'error/bounced-csi-member-email IDs-' + str(datetime.now().strftime('%Y_%m_%d_%H_%M_%S')) + '.csv'\n",
    "email_df.to_csv(output_file_name, index = False)"
   ]
  },
  {
   "cell_type": "code",
   "execution_count": 9,
   "id": "8adfd5c3",
   "metadata": {},
   "outputs": [
    {
     "data": {
      "text/plain": [
       "'D:\\\\CSI\\\\Members'"
      ]
     },
     "execution_count": 9,
     "metadata": {},
     "output_type": "execute_result"
    }
   ],
   "source": [
    "import os; os.getcwd()"
   ]
  }
 ],
 "metadata": {
  "kernelspec": {
   "display_name": "Python 3",
   "language": "python",
   "name": "python3"
  },
  "language_info": {
   "codemirror_mode": {
    "name": "ipython",
    "version": 3
   },
   "file_extension": ".py",
   "mimetype": "text/x-python",
   "name": "python",
   "nbconvert_exporter": "python",
   "pygments_lexer": "ipython3",
   "version": "3.8.8"
  }
 },
 "nbformat": 4,
 "nbformat_minor": 5
}
